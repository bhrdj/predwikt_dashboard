{
 "cells": [
  {
   "cell_type": "markdown",
   "id": "5f041dbf-bf26-461e-94fc-8e10bc9f0ea4",
   "metadata": {},
   "source": [
    "# predwikt streamlit dashboard"
   ]
  },
  {
   "cell_type": "markdown",
   "id": "d5f91c1f-6de6-471c-aedb-703d374c7e7c",
   "metadata": {},
   "source": [
    "##### imports"
   ]
  },
  {
   "cell_type": "raw",
   "id": "7d2efb61-55ed-4e05-9546-5364b185b9fd",
   "metadata": {},
   "source": [
    "!pip install streamlit"
   ]
  },
  {
   "cell_type": "code",
   "execution_count": 136,
   "id": "29a47071-846b-4e93-ab7c-02801134c89f",
   "metadata": {},
   "outputs": [],
   "source": [
    "import streamlit as st, seaborn as sns \n",
    "import matplotlib.pyplot as plt, pandas as pd \n",
    "import pickle, datetime \n",
    "from zoneinfo import ZoneInfo\n",
    "from datetime import datetime as dt\n",
    "from statsmodels.tsa.arima.model import ARIMA\n",
    "from sklearn.linear_model import Ridge\n",
    "from sklearn.model_selection import GridSearchCV"
   ]
  },
  {
   "cell_type": "markdown",
   "id": "97d34193-fe25-42c4-b2c6-d5b4e3361b1d",
   "metadata": {
    "tags": []
   },
   "source": [
    "###### get the daily edits"
   ]
  },
  {
   "cell_type": "code",
   "execution_count": 7,
   "id": "7a96405c-d712-4f0c-ab91-0cf23a82993a",
   "metadata": {},
   "outputs": [],
   "source": [
    "datapath = '../data/'\n",
    "with open(datapath + 'disaster_daily_edits.pickle', 'rb') as f:\n",
    "    disaster_daily_edits = pickle.load(f)"
   ]
  },
  {
   "cell_type": "markdown",
   "id": "91461a32-f7f1-40ef-b428-0a74e96ee694",
   "metadata": {
    "tags": []
   },
   "source": [
    "###### peek"
   ]
  },
  {
   "cell_type": "code",
   "execution_count": 8,
   "id": "b4974ef6-0ee8-46b0-9044-a92106ddda5f",
   "metadata": {},
   "outputs": [
    {
     "data": {
      "text/html": [
       "<div>\n",
       "<style scoped>\n",
       "    .dataframe tbody tr th:only-of-type {\n",
       "        vertical-align: middle;\n",
       "    }\n",
       "\n",
       "    .dataframe tbody tr th {\n",
       "        vertical-align: top;\n",
       "    }\n",
       "\n",
       "    .dataframe thead th {\n",
       "        text-align: right;\n",
       "    }\n",
       "</style>\n",
       "<table border=\"1\" class=\"dataframe\">\n",
       "  <thead>\n",
       "    <tr style=\"text-align: right;\">\n",
       "      <th></th>\n",
       "      <th>火山災害</th>\n",
       "      <th>熱帯低気圧</th>\n",
       "      <th>雪害</th>\n",
       "      <th>地震</th>\n",
       "      <th>津波</th>\n",
       "    </tr>\n",
       "    <tr>\n",
       "      <th>day</th>\n",
       "      <th></th>\n",
       "      <th></th>\n",
       "      <th></th>\n",
       "      <th></th>\n",
       "      <th></th>\n",
       "    </tr>\n",
       "  </thead>\n",
       "  <tbody>\n",
       "    <tr>\n",
       "      <th>2019-01-01 00:00:00+09:00</th>\n",
       "      <td>3</td>\n",
       "      <td>18.0</td>\n",
       "      <td>0.0</td>\n",
       "      <td>220</td>\n",
       "      <td>207</td>\n",
       "    </tr>\n",
       "    <tr>\n",
       "      <th>2019-01-02 00:00:00+09:00</th>\n",
       "      <td>0</td>\n",
       "      <td>3.0</td>\n",
       "      <td>1.0</td>\n",
       "      <td>267</td>\n",
       "      <td>260</td>\n",
       "    </tr>\n",
       "    <tr>\n",
       "      <th>2019-01-03 00:00:00+09:00</th>\n",
       "      <td>0</td>\n",
       "      <td>2.0</td>\n",
       "      <td>0.0</td>\n",
       "      <td>274</td>\n",
       "      <td>263</td>\n",
       "    </tr>\n",
       "    <tr>\n",
       "      <th>2019-01-04 00:00:00+09:00</th>\n",
       "      <td>0</td>\n",
       "      <td>6.0</td>\n",
       "      <td>0.0</td>\n",
       "      <td>264</td>\n",
       "      <td>246</td>\n",
       "    </tr>\n",
       "    <tr>\n",
       "      <th>2019-01-05 00:00:00+09:00</th>\n",
       "      <td>0</td>\n",
       "      <td>15.0</td>\n",
       "      <td>0.0</td>\n",
       "      <td>267</td>\n",
       "      <td>252</td>\n",
       "    </tr>\n",
       "    <tr>\n",
       "      <th>...</th>\n",
       "      <td>...</td>\n",
       "      <td>...</td>\n",
       "      <td>...</td>\n",
       "      <td>...</td>\n",
       "      <td>...</td>\n",
       "    </tr>\n",
       "    <tr>\n",
       "      <th>2021-12-28 00:00:00+09:00</th>\n",
       "      <td>3</td>\n",
       "      <td>3.0</td>\n",
       "      <td>0.0</td>\n",
       "      <td>284</td>\n",
       "      <td>274</td>\n",
       "    </tr>\n",
       "    <tr>\n",
       "      <th>2021-12-29 00:00:00+09:00</th>\n",
       "      <td>1</td>\n",
       "      <td>4.0</td>\n",
       "      <td>0.0</td>\n",
       "      <td>361</td>\n",
       "      <td>343</td>\n",
       "    </tr>\n",
       "    <tr>\n",
       "      <th>2021-12-30 00:00:00+09:00</th>\n",
       "      <td>0</td>\n",
       "      <td>3.0</td>\n",
       "      <td>0.0</td>\n",
       "      <td>344</td>\n",
       "      <td>322</td>\n",
       "    </tr>\n",
       "    <tr>\n",
       "      <th>2021-12-31 00:00:00+09:00</th>\n",
       "      <td>12</td>\n",
       "      <td>4.0</td>\n",
       "      <td>1.0</td>\n",
       "      <td>380</td>\n",
       "      <td>373</td>\n",
       "    </tr>\n",
       "    <tr>\n",
       "      <th>2022-01-01 00:00:00+09:00</th>\n",
       "      <td>2</td>\n",
       "      <td>0.0</td>\n",
       "      <td>0.0</td>\n",
       "      <td>87</td>\n",
       "      <td>76</td>\n",
       "    </tr>\n",
       "  </tbody>\n",
       "</table>\n",
       "<p>1097 rows × 5 columns</p>\n",
       "</div>"
      ],
      "text/plain": [
       "                           火山災害  熱帯低気圧   雪害   地震   津波\n",
       "day                                                  \n",
       "2019-01-01 00:00:00+09:00     3   18.0  0.0  220  207\n",
       "2019-01-02 00:00:00+09:00     0    3.0  1.0  267  260\n",
       "2019-01-03 00:00:00+09:00     0    2.0  0.0  274  263\n",
       "2019-01-04 00:00:00+09:00     0    6.0  0.0  264  246\n",
       "2019-01-05 00:00:00+09:00     0   15.0  0.0  267  252\n",
       "...                         ...    ...  ...  ...  ...\n",
       "2021-12-28 00:00:00+09:00     3    3.0  0.0  284  274\n",
       "2021-12-29 00:00:00+09:00     1    4.0  0.0  361  343\n",
       "2021-12-30 00:00:00+09:00     0    3.0  0.0  344  322\n",
       "2021-12-31 00:00:00+09:00    12    4.0  1.0  380  373\n",
       "2022-01-01 00:00:00+09:00     2    0.0  0.0   87   76\n",
       "\n",
       "[1097 rows x 5 columns]"
      ]
     },
     "execution_count": 8,
     "metadata": {},
     "output_type": "execute_result"
    }
   ],
   "source": [
    "disaster_daily_edits"
   ]
  },
  {
   "cell_type": "markdown",
   "id": "30f31d95-5d22-425a-ab6b-01a671d06102",
   "metadata": {
    "jp-MarkdownHeadingCollapsed": true,
    "tags": []
   },
   "source": [
    "###### ------"
   ]
  },
  {
   "cell_type": "markdown",
   "id": "d109d274-adda-401d-a177-f08c47a0e703",
   "metadata": {},
   "source": [
    "##### -----"
   ]
  },
  {
   "cell_type": "markdown",
   "id": "a3305913-3d3e-486b-8c12-63e897a60432",
   "metadata": {},
   "source": [
    "## streamlit"
   ]
  },
  {
   "cell_type": "code",
   "execution_count": 47,
   "id": "97e7ca56-e6ca-44b9-9ab9-49516e25c295",
   "metadata": {},
   "outputs": [],
   "source": [
    "train_weeks = 16"
   ]
  },
  {
   "cell_type": "code",
   "execution_count": 150,
   "id": "db1cbe0c-eac3-445c-b691-f0d0b9a0fda5",
   "metadata": {},
   "outputs": [],
   "source": [
    "days_lags = 7\n",
    "days_train = 7*50\n",
    "# days_predict = 7\n",
    "ja_tz = ZoneInfo(key='Japan')\n",
    "first_valid_date = (disaster_daily_edits.index.min().to_pydatetime()\n",
    "              + datetime.timedelta(days= 1))  # one day margin for potentially incomplete day of data \n",
    "last_valid_date = (disaster_daily_edits.index.max().to_pydatetime()\n",
    "              - datetime.timedelta(days= 1))  # one day margin for potentially incomplete day of data"
   ]
  },
  {
   "cell_type": "code",
   "execution_count": 152,
   "id": "dfc487cc-d7e3-4b29-a0aa-b302d5fb7afa",
   "metadata": {},
   "outputs": [],
   "source": [
    "weeks = ((last_valid_date - first_valid_date).days - days_lags - days_train) // 7\n",
    "first_week_start = last_valid_date - datetime.timedelta(days= 7*weeks + days_lags + days_train)"
   ]
  },
  {
   "cell_type": "code",
   "execution_count": null,
   "id": "59384a97-3c62-4fb9-a0d3-cb800622be66",
   "metadata": {},
   "outputs": [],
   "source": []
  },
  {
   "cell_type": "code",
   "execution_count": 153,
   "id": "a5ab1377-7937-41f6-909e-808c1a0169c6",
   "metadata": {},
   "outputs": [],
   "source": [
    "from statsmodels.tsa.arima.model import ARIMA"
   ]
  },
  {
   "cell_type": "code",
   "execution_count": null,
   "id": "40d868be-92d6-43cd-936e-33e487a2be8e",
   "metadata": {},
   "outputs": [],
   "source": [
    "arma = ARIMA()"
   ]
  },
  {
   "cell_type": "code",
   "execution_count": 156,
   "id": "b5e80268-d6f9-4e21-b81d-fa73e42dc0cc",
   "metadata": {},
   "outputs": [
    {
     "data": {
      "text/plain": [
       "5"
      ]
     },
     "execution_count": 156,
     "metadata": {},
     "output_type": "execute_result"
    }
   ],
   "source": []
  },
  {
   "cell_type": "code",
   "execution_count": null,
   "id": "b9ec31b2-4794-4d35-9660-ea3e51fc76d2",
   "metadata": {},
   "outputs": [],
   "source": []
  },
  {
   "cell_type": "code",
   "execution_count": 139,
   "id": "9733554f-56ce-46e5-9e41-6ecd9e6b5d09",
   "metadata": {},
   "outputs": [],
   "source": [
    "ridge_alpha=50\n",
    "lrs = {}\n",
    "for i in range(weeks):\n",
    "    train_start = first_week_start + datetime.timedelta(days=7*i)\n",
    "    predict_start = train_start + days_model\n",
    "    predict_end = predict_start + datetime.timedelta(7) # discluded index\n",
    "    lrs[i] = Ridge(alpha=ridge_alpha)\n",
    "    lrs[i].fit()"
   ]
  },
  {
   "cell_type": "code",
   "execution_count": null,
   "id": "4fae40ad-a1e5-4a0b-8798-22c3e5570bec",
   "metadata": {},
   "outputs": [],
   "source": [
    "ridge_alpha = 50\n",
    "for i in dfs:\n",
    "    ri[diz] = \n",
    "    "
   ]
  },
  {
   "cell_type": "code",
   "execution_count": null,
   "id": "59375bf1-4588-44e2-b5c3-eae7e622165f",
   "metadata": {},
   "outputs": [],
   "source": []
  },
  {
   "cell_type": "markdown",
   "id": "dad9e84d-22ee-477d-a3ce-ad054d33ec3b",
   "metadata": {},
   "source": [
    "## not using these"
   ]
  },
  {
   "cell_type": "raw",
   "id": "85f25c5c-d362-4fbc-9346-149b9058fee9",
   "metadata": {},
   "source": [
    "min_train = st.slider('min_train', min_value=0, max_value=disaster_daily_edits.shape[0]-200)\n",
    "max_train = st.slider('max_train', min_value=min_train+100, max_value=disaster_daily_edits.shape[0]-2)\n",
    "min_test = st.slider('min_test', min_value=max_train+1, max_value = disaster_daily_edits.shape[0]-1)\n",
    "max_test = st.slider('max_test', min_value=min_test+1, max_value = disaster_daily_edits.shape[0])"
   ]
  },
  {
   "cell_type": "markdown",
   "id": "7e6ed64f-83dd-41ab-a091-7e431be7f7e0",
   "metadata": {},
   "source": [
    "## --"
   ]
  }
 ],
 "metadata": {
  "kernelspec": {
   "display_name": "Python 3 (ipykernel)",
   "language": "python",
   "name": "python3"
  },
  "language_info": {
   "codemirror_mode": {
    "name": "ipython",
    "version": 3
   },
   "file_extension": ".py",
   "mimetype": "text/x-python",
   "name": "python",
   "nbconvert_exporter": "python",
   "pygments_lexer": "ipython3",
   "version": "3.9.7"
  }
 },
 "nbformat": 4,
 "nbformat_minor": 5
}
