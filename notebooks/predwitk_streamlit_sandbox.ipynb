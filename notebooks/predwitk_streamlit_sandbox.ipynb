{
 "cells": [
  {
   "cell_type": "markdown",
   "id": "5f041dbf-bf26-461e-94fc-8e10bc9f0ea4",
   "metadata": {},
   "source": [
    "# predwikt streamlit dashboard"
   ]
  },
  {
   "cell_type": "markdown",
   "id": "d5f91c1f-6de6-471c-aedb-703d374c7e7c",
   "metadata": {},
   "source": [
    "##### imports"
   ]
  },
  {
   "cell_type": "raw",
   "id": "7d2efb61-55ed-4e05-9546-5364b185b9fd",
   "metadata": {},
   "source": [
    "!pip install streamlit"
   ]
  },
  {
   "cell_type": "code",
   "execution_count": 1,
   "id": "29a47071-846b-4e93-ab7c-02801134c89f",
   "metadata": {},
   "outputs": [],
   "source": [
    "import streamlit as st\n",
    "import seaborn as sns \n",
    "import matplotlib.pyplot as plt \n",
    "import pandas as pd \n",
    "import pickle \n",
    "from sklearn.linear_model import LinearRegression \n",
    "from sklearn.model_selection import GridSearchCV"
   ]
  },
  {
   "cell_type": "markdown",
   "id": "97d34193-fe25-42c4-b2c6-d5b4e3361b1d",
   "metadata": {},
   "source": [
    "##### get the daily edits"
   ]
  },
  {
   "cell_type": "code",
   "execution_count": 7,
   "id": "96146a00-e760-4c7f-a663-7bc3e3a772d3",
   "metadata": {},
   "outputs": [
    {
     "ename": "TypeError",
     "evalue": "number_input() missing 1 required positional argument: 'label'",
     "output_type": "error",
     "traceback": [
      "\u001b[0;31m---------------------------------------------------------------------------\u001b[0m",
      "\u001b[0;31mTypeError\u001b[0m                                 Traceback (most recent call last)",
      "\u001b[0;32m/tmp/ipykernel_48300/108887762.py\u001b[0m in \u001b[0;36m<module>\u001b[0;34m\u001b[0m\n\u001b[0;32m----> 1\u001b[0;31m \u001b[0mst\u001b[0m\u001b[0;34m.\u001b[0m\u001b[0mnumber_input\u001b[0m\u001b[0;34m(\u001b[0m\u001b[0;34m)\u001b[0m\u001b[0;34m\u001b[0m\u001b[0;34m\u001b[0m\u001b[0m\n\u001b[0m",
      "\u001b[0;31mTypeError\u001b[0m: number_input() missing 1 required positional argument: 'label'"
     ]
    }
   ],
   "source": [
    "st.number_input('min', min_value=0, max_value=)"
   ]
  },
  {
   "cell_type": "code",
   "execution_count": 4,
   "id": "7a96405c-d712-4f0c-ab91-0cf23a82993a",
   "metadata": {},
   "outputs": [],
   "source": [
    "datapath = '../data/'\n",
    "with open(datapath + 'disaster_daily_edits.pickle', 'rb') as f:\n",
    "    disaster_daily_edits = pickle.load(f)"
   ]
  },
  {
   "cell_type": "markdown",
   "id": "0673d3bd-18b7-4255-9640-067b12820ff2",
   "metadata": {},
   "source": [
    "##### peek"
   ]
  },
  {
   "cell_type": "code",
   "execution_count": 6,
   "id": "507a9a80-fce5-49a0-8375-b04542b383b7",
   "metadata": {},
   "outputs": [
    {
     "data": {
      "text/html": [
       "<div>\n",
       "<style scoped>\n",
       "    .dataframe tbody tr th:only-of-type {\n",
       "        vertical-align: middle;\n",
       "    }\n",
       "\n",
       "    .dataframe tbody tr th {\n",
       "        vertical-align: top;\n",
       "    }\n",
       "\n",
       "    .dataframe thead th {\n",
       "        text-align: right;\n",
       "    }\n",
       "</style>\n",
       "<table border=\"1\" class=\"dataframe\">\n",
       "  <thead>\n",
       "    <tr style=\"text-align: right;\">\n",
       "      <th></th>\n",
       "      <th>火山災害</th>\n",
       "      <th>熱帯低気圧</th>\n",
       "      <th>雪害</th>\n",
       "      <th>地震</th>\n",
       "      <th>津波</th>\n",
       "    </tr>\n",
       "    <tr>\n",
       "      <th>day</th>\n",
       "      <th></th>\n",
       "      <th></th>\n",
       "      <th></th>\n",
       "      <th></th>\n",
       "      <th></th>\n",
       "    </tr>\n",
       "  </thead>\n",
       "  <tbody>\n",
       "    <tr>\n",
       "      <th>2019-01-01 00:00:00+09:00</th>\n",
       "      <td>3</td>\n",
       "      <td>18.0</td>\n",
       "      <td>0.0</td>\n",
       "      <td>220</td>\n",
       "      <td>207</td>\n",
       "    </tr>\n",
       "    <tr>\n",
       "      <th>2019-01-02 00:00:00+09:00</th>\n",
       "      <td>0</td>\n",
       "      <td>3.0</td>\n",
       "      <td>1.0</td>\n",
       "      <td>267</td>\n",
       "      <td>260</td>\n",
       "    </tr>\n",
       "    <tr>\n",
       "      <th>2019-01-03 00:00:00+09:00</th>\n",
       "      <td>0</td>\n",
       "      <td>2.0</td>\n",
       "      <td>0.0</td>\n",
       "      <td>274</td>\n",
       "      <td>263</td>\n",
       "    </tr>\n",
       "    <tr>\n",
       "      <th>2019-01-04 00:00:00+09:00</th>\n",
       "      <td>0</td>\n",
       "      <td>6.0</td>\n",
       "      <td>0.0</td>\n",
       "      <td>264</td>\n",
       "      <td>246</td>\n",
       "    </tr>\n",
       "    <tr>\n",
       "      <th>2019-01-05 00:00:00+09:00</th>\n",
       "      <td>0</td>\n",
       "      <td>15.0</td>\n",
       "      <td>0.0</td>\n",
       "      <td>267</td>\n",
       "      <td>252</td>\n",
       "    </tr>\n",
       "    <tr>\n",
       "      <th>...</th>\n",
       "      <td>...</td>\n",
       "      <td>...</td>\n",
       "      <td>...</td>\n",
       "      <td>...</td>\n",
       "      <td>...</td>\n",
       "    </tr>\n",
       "    <tr>\n",
       "      <th>2021-12-28 00:00:00+09:00</th>\n",
       "      <td>3</td>\n",
       "      <td>3.0</td>\n",
       "      <td>0.0</td>\n",
       "      <td>284</td>\n",
       "      <td>274</td>\n",
       "    </tr>\n",
       "    <tr>\n",
       "      <th>2021-12-29 00:00:00+09:00</th>\n",
       "      <td>1</td>\n",
       "      <td>4.0</td>\n",
       "      <td>0.0</td>\n",
       "      <td>361</td>\n",
       "      <td>343</td>\n",
       "    </tr>\n",
       "    <tr>\n",
       "      <th>2021-12-30 00:00:00+09:00</th>\n",
       "      <td>0</td>\n",
       "      <td>3.0</td>\n",
       "      <td>0.0</td>\n",
       "      <td>344</td>\n",
       "      <td>322</td>\n",
       "    </tr>\n",
       "    <tr>\n",
       "      <th>2021-12-31 00:00:00+09:00</th>\n",
       "      <td>12</td>\n",
       "      <td>4.0</td>\n",
       "      <td>1.0</td>\n",
       "      <td>380</td>\n",
       "      <td>373</td>\n",
       "    </tr>\n",
       "    <tr>\n",
       "      <th>2022-01-01 00:00:00+09:00</th>\n",
       "      <td>2</td>\n",
       "      <td>0.0</td>\n",
       "      <td>0.0</td>\n",
       "      <td>87</td>\n",
       "      <td>76</td>\n",
       "    </tr>\n",
       "  </tbody>\n",
       "</table>\n",
       "<p>1097 rows × 5 columns</p>\n",
       "</div>"
      ],
      "text/plain": [
       "                           火山災害  熱帯低気圧   雪害   地震   津波\n",
       "day                                                  \n",
       "2019-01-01 00:00:00+09:00     3   18.0  0.0  220  207\n",
       "2019-01-02 00:00:00+09:00     0    3.0  1.0  267  260\n",
       "2019-01-03 00:00:00+09:00     0    2.0  0.0  274  263\n",
       "2019-01-04 00:00:00+09:00     0    6.0  0.0  264  246\n",
       "2019-01-05 00:00:00+09:00     0   15.0  0.0  267  252\n",
       "...                         ...    ...  ...  ...  ...\n",
       "2021-12-28 00:00:00+09:00     3    3.0  0.0  284  274\n",
       "2021-12-29 00:00:00+09:00     1    4.0  0.0  361  343\n",
       "2021-12-30 00:00:00+09:00     0    3.0  0.0  344  322\n",
       "2021-12-31 00:00:00+09:00    12    4.0  1.0  380  373\n",
       "2022-01-01 00:00:00+09:00     2    0.0  0.0   87   76\n",
       "\n",
       "[1097 rows x 5 columns]"
      ]
     },
     "execution_count": 6,
     "metadata": {},
     "output_type": "execute_result"
    }
   ],
   "source": [
    "disaster_daily_edits"
   ]
  },
  {
   "cell_type": "markdown",
   "id": "878e4ef3-216a-4c04-a66c-563cca51b276",
   "metadata": {},
   "source": []
  },
  {
   "cell_type": "markdown",
   "id": "194f1001-491b-4e5f-8759-8e13d91c11d9",
   "metadata": {},
   "source": []
  },
  {
   "cell_type": "markdown",
   "id": "7e6ed64f-83dd-41ab-a091-7e431be7f7e0",
   "metadata": {},
   "source": []
  }
 ],
 "metadata": {
  "kernelspec": {
   "display_name": "Python 3 (ipykernel)",
   "language": "python",
   "name": "python3"
  },
  "language_info": {
   "codemirror_mode": {
    "name": "ipython",
    "version": 3
   },
   "file_extension": ".py",
   "mimetype": "text/x-python",
   "name": "python",
   "nbconvert_exporter": "python",
   "pygments_lexer": "ipython3",
   "version": "3.9.7"
  }
 },
 "nbformat": 4,
 "nbformat_minor": 5
}
